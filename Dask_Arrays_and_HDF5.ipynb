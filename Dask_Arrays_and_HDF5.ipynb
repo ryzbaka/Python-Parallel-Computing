{
  "nbformat": 4,
  "nbformat_minor": 0,
  "metadata": {
    "colab": {
      "name": "Dask_Arrays_and_HDF5",
      "provenance": []
    },
    "kernelspec": {
      "name": "python3",
      "display_name": "Python 3"
    }
  },
  "cells": [
    {
      "cell_type": "code",
      "metadata": {
        "id": "s_zZrqmjIpve",
        "colab_type": "code",
        "colab": {}
      },
      "source": [
        "import dask.array as da"
      ],
      "execution_count": 0,
      "outputs": []
    },
    {
      "cell_type": "code",
      "metadata": {
        "id": "w2y-qmfDIxKG",
        "colab_type": "code",
        "colab": {}
      },
      "source": [
        "import numpy as np"
      ],
      "execution_count": 0,
      "outputs": []
    },
    {
      "cell_type": "markdown",
      "metadata": {
        "id": "t1vNdU8DJcP9",
        "colab_type": "text"
      },
      "source": [
        "## Dask Arrays\n"
      ]
    },
    {
      "cell_type": "code",
      "metadata": {
        "id": "aAlTtPQBJefR",
        "colab_type": "code",
        "colab": {}
      },
      "source": [
        "a=np.arange(20)\n",
        "dask_a=da.from_array(a,chunks=len(a)//4)"
      ],
      "execution_count": 0,
      "outputs": []
    },
    {
      "cell_type": "code",
      "metadata": {
        "id": "SZe3sXMwJwld",
        "colab_type": "code",
        "colab": {
          "base_uri": "https://localhost:8080/",
          "height": 34
        },
        "outputId": "b9c8b529-72c5-4c99-c52d-548ed1b6cd04"
      },
      "source": [
        "dask_a.shape"
      ],
      "execution_count": 9,
      "outputs": [
        {
          "output_type": "execute_result",
          "data": {
            "text/plain": [
              "(20,)"
            ]
          },
          "metadata": {
            "tags": []
          },
          "execution_count": 9
        }
      ]
    },
    {
      "cell_type": "code",
      "metadata": {
        "id": "LXfJmDbdJyFL",
        "colab_type": "code",
        "colab": {
          "base_uri": "https://localhost:8080/",
          "height": 34
        },
        "outputId": "3fbfa3dd-8992-489c-a812-2b560e2caf90"
      },
      "source": [
        "dask_a.mean(axis=0).compute()"
      ],
      "execution_count": 10,
      "outputs": [
        {
          "output_type": "execute_result",
          "data": {
            "text/plain": [
              "9.5"
            ]
          },
          "metadata": {
            "tags": []
          },
          "execution_count": 10
        }
      ]
    },
    {
      "cell_type": "markdown",
      "metadata": {
        "id": "q_9KsK2mKIh1",
        "colab_type": "text"
      },
      "source": [
        "## HDF5 Files"
      ]
    },
    {
      "cell_type": "markdown",
      "metadata": {
        "id": "re80EDMOKYda",
        "colab_type": "text"
      },
      "source": [
        "* hdf5 is a heirarchial format fo storing and managing data"
      ]
    },
    {
      "cell_type": "code",
      "metadata": {
        "id": "vJ22UQs0JZ-w",
        "colab_type": "code",
        "colab": {}
      },
      "source": [
        "import h5py"
      ],
      "execution_count": 0,
      "outputs": []
    },
    {
      "cell_type": "code",
      "metadata": {
        "id": "5te4FR3fKjHk",
        "colab_type": "code",
        "colab": {}
      },
      "source": [
        "# open a HDF5 file object\n",
        "\n",
        "data_store=h5py.File('Texas/texas.2014.hdf5')"
      ],
      "execution_count": 0,
      "outputs": []
    },
    {
      "cell_type": "code",
      "metadata": {
        "id": "o0k4YGKeKuH9",
        "colab_type": "code",
        "colab": {
          "base_uri": "https://localhost:8080/",
          "height": 34
        },
        "outputId": "8a0a9110-c2f4-443d-feaa-9aadd6c142f3"
      },
      "source": [
        "type(data_store)"
      ],
      "execution_count": 15,
      "outputs": [
        {
          "output_type": "execute_result",
          "data": {
            "text/plain": [
              "h5py._hl.files.File"
            ]
          },
          "metadata": {
            "tags": []
          },
          "execution_count": 15
        }
      ]
    },
    {
      "cell_type": "code",
      "metadata": {
        "id": "BtcBv4aGK7DW",
        "colab_type": "code",
        "colab": {
          "base_uri": "https://localhost:8080/",
          "height": 34
        },
        "outputId": "4920dd9e-f88e-447e-9505-061c62122e23"
      },
      "source": [
        "for key in data_store.keys():\n",
        "  print(key)"
      ],
      "execution_count": 18,
      "outputs": [
        {
          "output_type": "stream",
          "text": [
            "load\n"
          ],
          "name": "stdout"
        }
      ]
    },
    {
      "cell_type": "code",
      "metadata": {
        "id": "e__jmdkvLAom",
        "colab_type": "code",
        "colab": {}
      },
      "source": [
        "data=data_store['load']"
      ],
      "execution_count": 0,
      "outputs": []
    },
    {
      "cell_type": "code",
      "metadata": {
        "id": "5C8Aoyr7LF0R",
        "colab_type": "code",
        "colab": {
          "base_uri": "https://localhost:8080/",
          "height": 34
        },
        "outputId": "82e4dbbc-eb1a-4311-fa93-8a4030a6b98d"
      },
      "source": [
        "type(data)"
      ],
      "execution_count": 21,
      "outputs": [
        {
          "output_type": "execute_result",
          "data": {
            "text/plain": [
              "h5py._hl.dataset.Dataset"
            ]
          },
          "metadata": {
            "tags": []
          },
          "execution_count": 21
        }
      ]
    },
    {
      "cell_type": "code",
      "metadata": {
        "id": "2wsbSz-_LJi5",
        "colab_type": "code",
        "colab": {
          "base_uri": "https://localhost:8080/",
          "height": 34
        },
        "outputId": "c44963a1-698f-4016-f863-d2b233f73676"
      },
      "source": [
        "data.shape"
      ],
      "execution_count": 22,
      "outputs": [
        {
          "output_type": "execute_result",
          "data": {
            "text/plain": [
              "(35040,)"
            ]
          },
          "metadata": {
            "tags": []
          },
          "execution_count": 22
        }
      ]
    },
    {
      "cell_type": "code",
      "metadata": {
        "id": "7proUr2DLOfA",
        "colab_type": "code",
        "colab": {}
      },
      "source": [
        "dask_data=da.from_array(data,chunks=len(data)//7)"
      ],
      "execution_count": 0,
      "outputs": []
    },
    {
      "cell_type": "code",
      "metadata": {
        "id": "lZGPB7QMLd16",
        "colab_type": "code",
        "colab": {
          "base_uri": "https://localhost:8080/",
          "height": 34
        },
        "outputId": "ad59912e-69e8-4540-c913-040fc3ad213f"
      },
      "source": [
        "dask_data.min().compute()"
      ],
      "execution_count": 25,
      "outputs": [
        {
          "output_type": "execute_result",
          "data": {
            "text/plain": [
              "3832.260999999999"
            ]
          },
          "metadata": {
            "tags": []
          },
          "execution_count": 25
        }
      ]
    },
    {
      "cell_type": "code",
      "metadata": {
        "id": "PSxNQuiWLvoU",
        "colab_type": "code",
        "colab": {
          "base_uri": "https://localhost:8080/",
          "height": 34
        },
        "outputId": "77df6029-1752-486d-ded7-d91b76731baa"
      },
      "source": [
        "da.nanmin(dask_data).compute()"
      ],
      "execution_count": 27,
      "outputs": [
        {
          "output_type": "execute_result",
          "data": {
            "text/plain": [
              "3832.260999999999"
            ]
          },
          "metadata": {
            "tags": []
          },
          "execution_count": 27
        }
      ]
    },
    {
      "cell_type": "markdown",
      "metadata": {
        "id": "s9FGbtNSMRaE",
        "colab_type": "text"
      },
      "source": [
        "## Stacking Arrays"
      ]
    },
    {
      "cell_type": "code",
      "metadata": {
        "id": "67T8EECnMThr",
        "colab_type": "code",
        "colab": {}
      },
      "source": [
        "a=np.arange(1,10)\n",
        "b=np.arange(2,11)"
      ],
      "execution_count": 0,
      "outputs": []
    },
    {
      "cell_type": "code",
      "metadata": {
        "id": "WlqFjwhxMc9N",
        "colab_type": "code",
        "colab": {
          "base_uri": "https://localhost:8080/",
          "height": 34
        },
        "outputId": "3ac76c25-9c68-4526-d341-3b03b8c89554"
      },
      "source": [
        "a"
      ],
      "execution_count": 29,
      "outputs": [
        {
          "output_type": "execute_result",
          "data": {
            "text/plain": [
              "array([1, 2, 3, 4, 5, 6, 7, 8, 9])"
            ]
          },
          "metadata": {
            "tags": []
          },
          "execution_count": 29
        }
      ]
    },
    {
      "cell_type": "code",
      "metadata": {
        "id": "kKZtdixrMdDu",
        "colab_type": "code",
        "colab": {
          "base_uri": "https://localhost:8080/",
          "height": 34
        },
        "outputId": "db929616-c021-4728-d378-9a6decb16a2a"
      },
      "source": [
        "b"
      ],
      "execution_count": 30,
      "outputs": [
        {
          "output_type": "execute_result",
          "data": {
            "text/plain": [
              "array([ 2,  3,  4,  5,  6,  7,  8,  9, 10])"
            ]
          },
          "metadata": {
            "tags": []
          },
          "execution_count": 30
        }
      ]
    },
    {
      "cell_type": "code",
      "metadata": {
        "id": "TtfaUsQeMdVv",
        "colab_type": "code",
        "colab": {
          "base_uri": "https://localhost:8080/",
          "height": 51
        },
        "outputId": "8c470a92-ccff-4d81-fae9-b91f27ad93f8"
      },
      "source": [
        "np.hstack([a,b])"
      ],
      "execution_count": 34,
      "outputs": [
        {
          "output_type": "execute_result",
          "data": {
            "text/plain": [
              "array([ 1,  2,  3,  4,  5,  6,  7,  8,  9,  2,  3,  4,  5,  6,  7,  8,  9,\n",
              "       10])"
            ]
          },
          "metadata": {
            "tags": []
          },
          "execution_count": 34
        }
      ]
    },
    {
      "cell_type": "code",
      "metadata": {
        "id": "G6kv3JBkMg_1",
        "colab_type": "code",
        "colab": {
          "base_uri": "https://localhost:8080/",
          "height": 51
        },
        "outputId": "e44c02aa-fe4e-451b-a8d5-e2a1163962ca"
      },
      "source": [
        "np.vstack([a,b])"
      ],
      "execution_count": 35,
      "outputs": [
        {
          "output_type": "execute_result",
          "data": {
            "text/plain": [
              "array([[ 1,  2,  3,  4,  5,  6,  7,  8,  9],\n",
              "       [ 2,  3,  4,  5,  6,  7,  8,  9, 10]])"
            ]
          },
          "metadata": {
            "tags": []
          },
          "execution_count": 35
        }
      ]
    },
    {
      "cell_type": "code",
      "metadata": {
        "id": "dYJhFr1HL4hv",
        "colab_type": "code",
        "colab": {}
      },
      "source": [
        "a=da.from_array(a,chunks=len(a)//4)\n",
        "b=da.from_array(b,chunks=len(a)//4)"
      ],
      "execution_count": 0,
      "outputs": []
    },
    {
      "cell_type": "code",
      "metadata": {
        "id": "k0GF5C2BNhUQ",
        "colab_type": "code",
        "colab": {
          "base_uri": "https://localhost:8080/",
          "height": 123
        },
        "outputId": "985d5445-4dbd-4d7f-9f52-75a79af2eed7"
      },
      "source": [
        "da.hstack([a,b])"
      ],
      "execution_count": 40,
      "outputs": [
        {
          "output_type": "execute_result",
          "data": {
            "text/html": [
              "<table>\n",
              "<tr>\n",
              "<td>\n",
              "<table>\n",
              "  <thead>\n",
              "    <tr><td> </td><th> Array </th><th> Chunk </th></tr>\n",
              "  </thead>\n",
              "  <tbody>\n",
              "    <tr><th> Bytes </th><td> 144 B </td> <td> 16 B </td></tr>\n",
              "    <tr><th> Shape </th><td> (18,) </td> <td> (2,) </td></tr>\n",
              "    <tr><th> Count </th><td> 22 Tasks </td><td> 10 Chunks </td></tr>\n",
              "    <tr><th> Type </th><td> int64 </td><td> numpy.ndarray </td></tr>\n",
              "  </tbody>\n",
              "</table>\n",
              "</td>\n",
              "<td>\n",
              "<svg width=\"170\" height=\"85\" style=\"stroke:rgb(0,0,0);stroke-width:1\" >\n",
              "\n",
              "  <!-- Horizontal lines -->\n",
              "  <line x1=\"0\" y1=\"0\" x2=\"120\" y2=\"0\" style=\"stroke-width:2\" />\n",
              "  <line x1=\"0\" y1=\"35\" x2=\"120\" y2=\"35\" style=\"stroke-width:2\" />\n",
              "\n",
              "  <!-- Vertical lines -->\n",
              "  <line x1=\"0\" y1=\"0\" x2=\"0\" y2=\"35\" style=\"stroke-width:2\" />\n",
              "  <line x1=\"13\" y1=\"0\" x2=\"13\" y2=\"35\" />\n",
              "  <line x1=\"26\" y1=\"0\" x2=\"26\" y2=\"35\" />\n",
              "  <line x1=\"40\" y1=\"0\" x2=\"40\" y2=\"35\" />\n",
              "  <line x1=\"53\" y1=\"0\" x2=\"53\" y2=\"35\" />\n",
              "  <line x1=\"60\" y1=\"0\" x2=\"60\" y2=\"35\" />\n",
              "  <line x1=\"73\" y1=\"0\" x2=\"73\" y2=\"35\" />\n",
              "  <line x1=\"86\" y1=\"0\" x2=\"86\" y2=\"35\" />\n",
              "  <line x1=\"100\" y1=\"0\" x2=\"100\" y2=\"35\" />\n",
              "  <line x1=\"113\" y1=\"0\" x2=\"113\" y2=\"35\" />\n",
              "  <line x1=\"120\" y1=\"0\" x2=\"120\" y2=\"35\" style=\"stroke-width:2\" />\n",
              "\n",
              "  <!-- Colored Rectangle -->\n",
              "  <polygon points=\"0.000000,0.000000 120.000000,0.000000 120.000000,35.144829 0.000000,35.144829\" style=\"fill:#ECB172A0;stroke-width:0\"/>\n",
              "\n",
              "  <!-- Text -->\n",
              "  <text x=\"60.000000\" y=\"55.144829\" font-size=\"1.0rem\" font-weight=\"100\" text-anchor=\"middle\" >18</text>\n",
              "  <text x=\"140.000000\" y=\"17.572414\" font-size=\"1.0rem\" font-weight=\"100\" text-anchor=\"middle\" transform=\"rotate(0,140.000000,17.572414)\">1</text>\n",
              "</svg>\n",
              "</td>\n",
              "</tr>\n",
              "</table>"
            ],
            "text/plain": [
              "dask.array<concatenate, shape=(18,), dtype=int64, chunksize=(2,), chunktype=numpy.ndarray>"
            ]
          },
          "metadata": {
            "tags": []
          },
          "execution_count": 40
        }
      ]
    },
    {
      "cell_type": "code",
      "metadata": {
        "id": "zIBDu8BSNjeu",
        "colab_type": "code",
        "colab": {
          "base_uri": "https://localhost:8080/",
          "height": 123
        },
        "outputId": "1fa47a70-2d10-4c5e-f54c-e0e803b41aa1"
      },
      "source": [
        "da.vstack([a,b]) #its so pretty wtf"
      ],
      "execution_count": 41,
      "outputs": [
        {
          "output_type": "execute_result",
          "data": {
            "text/html": [
              "<table>\n",
              "<tr>\n",
              "<td>\n",
              "<table>\n",
              "  <thead>\n",
              "    <tr><td> </td><th> Array </th><th> Chunk </th></tr>\n",
              "  </thead>\n",
              "  <tbody>\n",
              "    <tr><th> Bytes </th><td> 144 B </td> <td> 16 B </td></tr>\n",
              "    <tr><th> Shape </th><td> (2, 9) </td> <td> (1, 2) </td></tr>\n",
              "    <tr><th> Count </th><td> 32 Tasks </td><td> 10 Chunks </td></tr>\n",
              "    <tr><th> Type </th><td> int64 </td><td> numpy.ndarray </td></tr>\n",
              "  </tbody>\n",
              "</table>\n",
              "</td>\n",
              "<td>\n",
              "<svg width=\"170\" height=\"92\" style=\"stroke:rgb(0,0,0);stroke-width:1\" >\n",
              "\n",
              "  <!-- Horizontal lines -->\n",
              "  <line x1=\"0\" y1=\"0\" x2=\"120\" y2=\"0\" style=\"stroke-width:2\" />\n",
              "  <line x1=\"0\" y1=\"21\" x2=\"120\" y2=\"21\" />\n",
              "  <line x1=\"0\" y1=\"42\" x2=\"120\" y2=\"42\" style=\"stroke-width:2\" />\n",
              "\n",
              "  <!-- Vertical lines -->\n",
              "  <line x1=\"0\" y1=\"0\" x2=\"0\" y2=\"42\" style=\"stroke-width:2\" />\n",
              "  <line x1=\"26\" y1=\"0\" x2=\"26\" y2=\"42\" />\n",
              "  <line x1=\"53\" y1=\"0\" x2=\"53\" y2=\"42\" />\n",
              "  <line x1=\"80\" y1=\"0\" x2=\"80\" y2=\"42\" />\n",
              "  <line x1=\"106\" y1=\"0\" x2=\"106\" y2=\"42\" />\n",
              "  <line x1=\"120\" y1=\"0\" x2=\"120\" y2=\"42\" style=\"stroke-width:2\" />\n",
              "\n",
              "  <!-- Colored Rectangle -->\n",
              "  <polygon points=\"0.000000,0.000000 120.000000,0.000000 120.000000,42.443116 0.000000,42.443116\" style=\"fill:#ECB172A0;stroke-width:0\"/>\n",
              "\n",
              "  <!-- Text -->\n",
              "  <text x=\"60.000000\" y=\"62.443116\" font-size=\"1.0rem\" font-weight=\"100\" text-anchor=\"middle\" >9</text>\n",
              "  <text x=\"140.000000\" y=\"21.221558\" font-size=\"1.0rem\" font-weight=\"100\" text-anchor=\"middle\" transform=\"rotate(0,140.000000,21.221558)\">2</text>\n",
              "</svg>\n",
              "</td>\n",
              "</tr>\n",
              "</table>"
            ],
            "text/plain": [
              "dask.array<concatenate, shape=(2, 9), dtype=int64, chunksize=(1, 2), chunktype=numpy.ndarray>"
            ]
          },
          "metadata": {
            "tags": []
          },
          "execution_count": 41
        }
      ]
    }
  ]
}